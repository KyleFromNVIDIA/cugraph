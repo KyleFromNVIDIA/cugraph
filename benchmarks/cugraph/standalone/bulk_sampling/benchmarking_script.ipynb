{
 "cells": [
  {
   "cell_type": "code",
   "execution_count": 1,
   "id": "9b8d43d5-3005-4b0b-b418-b84af104bc3b",
   "metadata": {},
   "outputs": [],
   "source": [
    "!export RAPIDS_NO_INITIALIZE=\"1\"\n",
    "!export CUDF_SPILL=\"1\"\n",
    "!export LIBCUDF_CUFILE_POLICY=\"OFF\"\n",
    "\n",
    "from cugraph_bulk_sampling import start_dask_client, benchmark_cugraph_bulk_sampling, load_disk_dataset, construct_graph\n",
    "from cugraph_bulk_sampling import sample_graph\n",
    "import os"
   ]
  },
  {
   "cell_type": "markdown",
   "id": "f3f04da7-c937-4dab-b432-fc569522f411",
   "metadata": {},
   "source": [
    "# Setup Cluster"
   ]
  },
  {
   "cell_type": "code",
   "execution_count": 2,
   "id": "26324a75-1b34-4c7b-8a26-23bac23e91b4",
   "metadata": {},
   "outputs": [],
   "source": [
    "dask_worker_devices='0,1,2,3,4,5,6,7'"
   ]
  },
  {
   "cell_type": "code",
   "execution_count": 3,
   "id": "fc8d56ef-4036-4105-9764-1c6cbb2bdb15",
   "metadata": {},
   "outputs": [
    {
     "name": "stdout",
     "output_type": "stream",
     "text": [
      "\n",
      "Dask client/cluster created using LocalCUDACluster\n"
     ]
    }
   ],
   "source": [
    "client, cluster = start_dask_client(dask_worker_devices=dask_worker_devices,\n",
    "                                    jit_unspill=False,\n",
    "                                    rmm_pool_size=28e9,\n",
    "                                    rmm_async=True)"
   ]
  },
  {
   "cell_type": "markdown",
   "id": "5335b115-eeb0-470d-9884-79990506ead7",
   "metadata": {},
   "source": [
    "# Setup Benchmark"
   ]
  },
  {
   "cell_type": "code",
   "execution_count": 4,
   "id": "c9c8fb66-6bdd-45d7-8564-cc28e383d966",
   "metadata": {},
   "outputs": [],
   "source": [
    "dataset='ogbn_papers100M'\n",
    "dataset_root=\"/datasets/abarghi\"\n",
    "output_root=\"/tmp/ramdisk\"\n",
    "reverse_edges=True\n",
    "add_edge_types=False\n",
    "batch_size=512\n",
    "seeds_per_call=524288\n",
    "fanout=[25,25]\n",
    "replication_factor=2\n",
    "seed=123\n",
    "\n",
    "dataset_dir=dataset_root\n",
    "output_path=output_root\n",
    "persist=False\n"
   ]
  },
  {
   "cell_type": "code",
   "execution_count": 5,
   "id": "37ed06f6-ad06-443a-be12-61800d59d221",
   "metadata": {},
   "outputs": [
    {
     "name": "stdout",
     "output_type": "stream",
     "text": [
      "Loading edge index for edge type paper__cites__paper\n",
      "Loading node labels for node type paper (offset=0)\n",
      "Number of input edges = 3,231,371,744\n",
      "constructed graph\n"
     ]
    }
   ],
   "source": [
    "dask_edgelist_df, dask_label_df, node_offsets, edge_offsets, total_num_nodes = \\\n",
    "    load_disk_dataset(\n",
    "        dataset,\n",
    "        dataset_dir=dataset_dir,\n",
    "        reverse_edges=reverse_edges,\n",
    "        replication_factor=replication_factor,\n",
    "        persist=False,\n",
    "        add_edge_types=add_edge_types\n",
    "    )\n",
    "num_input_edges = len(dask_edgelist_df)\n",
    "print(\n",
    "f\"Number of input edges = {num_input_edges:,}\"\n",
    ")\n",
    "\n",
    "G = construct_graph(\n",
    "dask_edgelist_df\n",
    ")\n",
    "del dask_edgelist_df\n",
    "print('constructed graph')"
   ]
  },
  {
   "cell_type": "code",
   "execution_count": 6,
   "id": "f71cf5a3-7e4b-4497-9c14-a342cc5abbcd",
   "metadata": {},
   "outputs": [
    {
     "name": "stderr",
     "output_type": "stream",
     "text": [
      "/opt/conda/envs/rapids/lib/python3.10/site-packages/cudf/core/index.py:3139: FutureWarning: cudf.StringIndex is deprecated and will be removed from cudf in a future version. Use cudf.Index with the appropriate dtype instead.\n",
      "  warnings.warn(\n",
      "/opt/conda/envs/rapids/lib/python3.10/site-packages/cudf/core/index.py:3139: FutureWarning: cudf.StringIndex is deprecated and will be removed from cudf in a future version. Use cudf.Index with the appropriate dtype instead.\n",
      "  warnings.warn(\n"
     ]
    },
    {
     "name": "stdout",
     "output_type": "stream",
     "text": [
      "input memory: 51701947904\n"
     ]
    }
   ],
   "source": [
    "input_memory = G.edgelist.edgelist_df.memory_usage().sum().compute()\n",
    "print(f'input memory: {input_memory}')\n",
    "\n",
    "output_subdir = os.path.join(output_path, f'{dataset}[{replication_factor}]_b{batch_size}_f{fanout}')\n",
    "os.makedirs(output_subdir, exist_ok=True)\n",
    "\n",
    "output_sample_path = os.path.join(output_subdir, 'samples')\n",
    "os.makedirs(output_sample_path,  exist_ok=True)\n",
    "\n",
    "batches_per_partition = 200_000 // batch_size"
   ]
  },
  {
   "cell_type": "markdown",
   "id": "3d276c5c-65d6-4191-b2a5-37b30d2cd44b",
   "metadata": {},
   "source": [
    "# Benchmarking Sample Graph"
   ]
  },
  {
   "cell_type": "code",
   "execution_count": 7,
   "id": "675b580c-6a7a-4571-88dd-0d4429f9e5ff",
   "metadata": {},
   "outputs": [
    {
     "name": "stdout",
     "output_type": "stream",
     "text": [
      "created batches\n"
     ]
    },
    {
     "name": "stderr",
     "output_type": "stream",
     "text": [
      "2023-07-03 19:10:44,770 - distributed.worker - WARNING - Compute Failed\n",
      "Key:       ('repartition-split-70ef0a6cdf3b72d08b039f865dffa546', 0)\n",
      "Function:  boundary_slice\n",
      "args:      (('min_batch_id', -1), 0, 0, True)\n",
      "kwargs:    {}\n",
      "Exception: 'TypeError(\"object of type \\'builtin_function_or_method\\' has no len()\")'\n",
      "\n",
      "2023-07-03 19:10:44,770 - distributed.worker - WARNING - Compute Failed\n",
      "Key:       ('repartition-split-492dd0cc927669594e29f47a0a355603', 0)\n",
      "Function:  boundary_slice\n",
      "args:      (('max_batch_id', -1), 0, 0, True)\n",
      "kwargs:    {}\n",
      "Exception: 'TypeError(\"object of type \\'builtin_function_or_method\\' has no len()\")'\n",
      "\n",
      "2023-07-03 19:10:44,837 - distributed.worker - WARNING - Compute Failed\n",
      "Key:       _call_plc_uniform_neighbor_sample-984f9cdb-17cf-4922-9314-d10733f8db95\n",
      "Function:  _call_plc_uniform_neighbor_sample\n",
      "args:      (b'\\xa6\\xb7\\xd8\\xb5D\\x89N\\xe2\\x94$\\xe1\\x9f\\xcf\\xe0\\x93#', <pylibcugraph.graphs.MGGraph object at 0x7f89c578b3f0>, [          _START_  _BATCH_\n",
      "0             602        0\n",
      "1             684        0\n",
      "2            1384        0\n",
      "3            1525        0\n",
      "4            2127        0\n",
      "...           ...      ...\n",
      "386691  125973990      755\n",
      "386692  125974005      755\n",
      "386693  125974008      755\n",
      "386694  125974038      755\n",
      "386695  125974067      755\n",
      "\n",
      "[386696 rows x 2 columns]], True, 8, [Series([], dtype: int32)], [Series([], dtype: int64)], array([25, 25], dtype=int32), False)\n",
      "kwargs:    {'weight_t': 'float32', 'with_edge_properties': True, 'random_state': 156003727426401945, 'return_offsets': True}\n",
      "Exception: 'TypeError(\\'can only concatenate list (not \"int\") to list\\')'\n",
      "\n",
      "2023-07-03 19:10:44,846 - distributed.worker - WARNING - Compute Failed\n",
      "Key:       _call_plc_uniform_neighbor_sample-a2742faf-3894-4960-a914-c25544f1db90\n",
      "Function:  _call_plc_uniform_neighbor_sample\n",
      "args:      (b'\\xa6\\xb7\\xd8\\xb5D\\x89N\\xe2\\x94$\\xe1\\x9f\\xcf\\xe0\\x93#', <pylibcugraph.graphs.MGGraph object at 0x7fad481543d0>, [Empty DataFrame\n",
      "Columns: [_START_, _BATCH_]\n",
      "Index: []], True, 8, [Series([], dtype: int32)], [Series([], dtype: int64)], array([25, 25], dtype=int32), False)\n",
      "kwargs:    {'weight_t': 'float32', 'with_edge_properties': True, 'random_state': 7463735714530678058, 'return_offsets': True}\n",
      "Exception: 'TypeError(\\'can only concatenate list (not \"int\") to list\\')'\n",
      "\n",
      "2023-07-03 19:10:44,846 - distributed.worker - WARNING - Compute Failed\n",
      "Key:       _call_plc_uniform_neighbor_sample-35af5075-d039-4a99-8a4e-f8172337a8bb\n",
      "Function:  _call_plc_uniform_neighbor_sample\n",
      "args:      (b'\\xa6\\xb7\\xd8\\xb5D\\x89N\\xe2\\x94$\\xe1\\x9f\\xcf\\xe0\\x93#', <pylibcugraph.graphs.MGGraph object at 0x7f88240999b0>, [Empty DataFrame\n",
      "Columns: [_START_, _BATCH_]\n",
      "Index: []], True, 8, [Series([], dtype: int32)], [Series([], dtype: int64)], array([25, 25], dtype=int32), False)\n",
      "kwargs:    {'weight_t': 'float32', 'with_edge_properties': True, 'random_state': 7524932564408159384, 'return_offsets': True}\n",
      "Exception: 'TypeError(\\'can only concatenate list (not \"int\") to list\\')'\n",
      "\n",
      "2023-07-03 19:10:44,846 - distributed.worker - WARNING - Compute Failed\n",
      "Key:       _call_plc_uniform_neighbor_sample-9412d84f-71ae-4a85-b3d3-ee26b0eb798e\n",
      "Function:  _call_plc_uniform_neighbor_sample\n",
      "args:      (b'\\xa6\\xb7\\xd8\\xb5D\\x89N\\xe2\\x94$\\xe1\\x9f\\xcf\\xe0\\x93#', <pylibcugraph.graphs.MGGraph object at 0x7f3b4c5f1490>, [Empty DataFrame\n",
      "Columns: [_START_, _BATCH_]\n",
      "Index: []], True, 8, [Series([], dtype: int32)], [Series([], dtype: int64)], array([25, 25], dtype=int32), False)\n",
      "kwargs:    {'weight_t': 'float32', 'with_edge_properties': True, 'random_state': -8491415473857698896, 'return_offsets': True}\n",
      "Exception: 'TypeError(\\'can only concatenate list (not \"int\") to list\\')'\n",
      "\n",
      "2023-07-03 19:10:44,846 - distributed.worker - WARNING - Compute Failed\n",
      "Key:       _call_plc_uniform_neighbor_sample-be77ee3e-6d2c-4fcc-8f43-5c8d3b9a53e6\n",
      "Function:  _call_plc_uniform_neighbor_sample\n",
      "args:      (b'\\xa6\\xb7\\xd8\\xb5D\\x89N\\xe2\\x94$\\xe1\\x9f\\xcf\\xe0\\x93#', <pylibcugraph.graphs.MGGraph object at 0x7f78705c5810>, [Empty DataFrame\n",
      "Columns: [_START_, _BATCH_]\n",
      "Index: []], True, 8, [Series([], dtype: int32)], [Series([], dtype: int64)], array([25, 25], dtype=int32), False)\n",
      "kwargs:    {'weight_t': 'float32', 'with_edge_properties': True, 'random_state': -6510460701195341303, 'return_offsets': True}\n",
      "Exception: 'TypeError(\\'can only concatenate list (not \"int\") to list\\')'\n",
      "\n",
      "2023-07-03 19:10:44,847 - distributed.worker - WARNING - Compute Failed\n",
      "Key:       _call_plc_uniform_neighbor_sample-b9157f36-f2fa-40e8-8a07-5f403c8075d3\n",
      "Function:  _call_plc_uniform_neighbor_sample\n",
      "args:      (b'\\xa6\\xb7\\xd8\\xb5D\\x89N\\xe2\\x94$\\xe1\\x9f\\xcf\\xe0\\x93#', <pylibcugraph.graphs.MGGraph object at 0x7f43ad7fa1b0>, [Empty DataFrame\n",
      "Columns: [_START_, _BATCH_]\n",
      "Index: []], True, 8, [Series([], dtype: int32)], [Series([], dtype: int64)], array([25, 25], dtype=int32), False)\n",
      "kwargs:    {'weight_t': 'float32', 'with_edge_properties': True, 'random_state': -7960738283836317684, 'return_offsets': True}\n",
      "Exception: 'TypeError(\\'can only concatenate list (not \"int\") to list\\')'\n",
      "\n",
      "2023-07-03 19:10:44,847 - distributed.worker - WARNING - Compute Failed\n",
      "Key:       _call_plc_uniform_neighbor_sample-5dc06116-2adf-4c86-9ad2-e13715c8ef97\n",
      "Function:  _call_plc_uniform_neighbor_sample\n",
      "args:      (b'\\xa6\\xb7\\xd8\\xb5D\\x89N\\xe2\\x94$\\xe1\\x9f\\xcf\\xe0\\x93#', <pylibcugraph.graphs.MGGraph object at 0x7f27a74ca670>, [Empty DataFrame\n",
      "Columns: [_START_, _BATCH_]\n",
      "Index: []], True, 8, [Series([], dtype: int32)], [Series([], dtype: int64)], array([25, 25], dtype=int32), False)\n",
      "kwargs:    {'weight_t': 'float32', 'with_edge_properties': True, 'random_state': -4820215929002604344, 'return_offsets': True}\n",
      "Exception: 'TypeError(\\'can only concatenate list (not \"int\") to list\\')'\n",
      "\n",
      "2023-07-03 19:10:44,857 - distributed.worker - WARNING - Compute Failed\n",
      "Key:       _call_plc_uniform_neighbor_sample-2053d884-3ca6-4672-8da9-17047329b18a\n",
      "Function:  _call_plc_uniform_neighbor_sample\n",
      "args:      (b'\\xa6\\xb7\\xd8\\xb5D\\x89N\\xe2\\x94$\\xe1\\x9f\\xcf\\xe0\\x93#', <pylibcugraph.graphs.MGGraph object at 0x7fc8d16788f0>, [          _START_  _BATCH_\n",
      "0        14914113      756\n",
      "1        14914132      756\n",
      "2        14914148      756\n",
      "3        14914181      756\n",
      "4        14914182      756\n",
      "...           ...      ...\n",
      "211963  126463754     1169\n",
      "211964  126463761     1169\n",
      "211965  126463762     1169\n",
      "211966  126463798     1169\n",
      "211967  126463800     1169\n",
      "\n",
      "[211968 rows x 2 columns]], True, 8, [Series([], dtype: int32)], [Series([], dtype: int64)], array([25, 25], dtype=int32), False)\n",
      "kwargs:    {'weight_t': 'float32', 'with_edge_properties': True, 'random_state': 4186628170776141120, 'return_offsets': True}\n",
      "Exception: 'TypeError(\\'can only concatenate list (not \"int\") to list\\')'\n",
      "\n"
     ]
    },
    {
     "name": "stdout",
     "output_type": "stream",
     "text": [
      "{\"('repartition-merge-70ef0a6cdf3b72d08b039f865dffa546', 0)\": ()}\n",
      "{\"('repartition-merge-492dd0cc927669594e29f47a0a355603', 0)\": ()}\n"
     ]
    },
    {
     "ename": "type",
     "evalue": "'list' object has no attribute 'release'",
     "output_type": "error",
     "traceback": [
      "\u001b[0;31m---------------------------------------------------------------------------\u001b[0m",
      "\u001b[0;31mAttributeError\u001b[0m                            Traceback (most recent call last)",
      "Cell \u001b[0;32mIn[7], line 1\u001b[0m\n\u001b[0;32m----> 1\u001b[0m \u001b[43mget_ipython\u001b[49m\u001b[43m(\u001b[49m\u001b[43m)\u001b[49m\u001b[38;5;241;43m.\u001b[39;49m\u001b[43mrun_cell_magic\u001b[49m\u001b[43m(\u001b[49m\u001b[38;5;124;43m'\u001b[39;49m\u001b[38;5;124;43mtimeit\u001b[39;49m\u001b[38;5;124;43m'\u001b[39;49m\u001b[43m,\u001b[49m\u001b[43m \u001b[49m\u001b[38;5;124;43m'\u001b[39;49m\u001b[38;5;124;43m-n30 -r1\u001b[39;49m\u001b[38;5;124;43m'\u001b[39;49m\u001b[43m,\u001b[49m\u001b[43m \u001b[49m\u001b[38;5;124;43m'\u001b[39;49m\u001b[38;5;130;43;01m\\n\u001b[39;49;00m\u001b[38;5;130;43;01m\\n\u001b[39;49;00m\u001b[38;5;124;43mexecution_time, allocation_counts = sample_graph(\u001b[39;49m\u001b[38;5;130;43;01m\\n\u001b[39;49;00m\u001b[38;5;124;43m    G,\u001b[39;49m\u001b[38;5;130;43;01m\\n\u001b[39;49;00m\u001b[38;5;124;43m    dask_label_df,\u001b[39;49m\u001b[38;5;130;43;01m\\n\u001b[39;49;00m\u001b[38;5;124;43m    output_sample_path,\u001b[39;49m\u001b[38;5;130;43;01m\\n\u001b[39;49;00m\u001b[38;5;124;43m    seed=seed,\u001b[39;49m\u001b[38;5;130;43;01m\\n\u001b[39;49;00m\u001b[38;5;124;43m    batch_size=batch_size,\u001b[39;49m\u001b[38;5;130;43;01m\\n\u001b[39;49;00m\u001b[38;5;124;43m    seeds_per_call=seeds_per_call,\u001b[39;49m\u001b[38;5;130;43;01m\\n\u001b[39;49;00m\u001b[38;5;124;43m    batches_per_partition=batches_per_partition,\u001b[39;49m\u001b[38;5;130;43;01m\\n\u001b[39;49;00m\u001b[38;5;124;43m    fanout=fanout,\u001b[39;49m\u001b[38;5;130;43;01m\\n\u001b[39;49;00m\u001b[38;5;124;43m    persist=persist,\u001b[39;49m\u001b[38;5;130;43;01m\\n\u001b[39;49;00m\u001b[38;5;124;43m)\u001b[39;49m\u001b[38;5;130;43;01m\\n\u001b[39;49;00m\u001b[38;5;124;43m'\u001b[39;49m\u001b[43m)\u001b[49m\n",
      "File \u001b[0;32m/opt/conda/envs/rapids/lib/python3.10/site-packages/IPython/core/interactiveshell.py:2478\u001b[0m, in \u001b[0;36mInteractiveShell.run_cell_magic\u001b[0;34m(self, magic_name, line, cell)\u001b[0m\n\u001b[1;32m   2476\u001b[0m \u001b[39mwith\u001b[39;00m \u001b[39mself\u001b[39m\u001b[39m.\u001b[39mbuiltin_trap:\n\u001b[1;32m   2477\u001b[0m     args \u001b[39m=\u001b[39m (magic_arg_s, cell)\n\u001b[0;32m-> 2478\u001b[0m     result \u001b[39m=\u001b[39m fn(\u001b[39m*\u001b[39;49margs, \u001b[39m*\u001b[39;49m\u001b[39m*\u001b[39;49mkwargs)\n\u001b[1;32m   2480\u001b[0m \u001b[39m# The code below prevents the output from being displayed\u001b[39;00m\n\u001b[1;32m   2481\u001b[0m \u001b[39m# when using magics with decodator @output_can_be_silenced\u001b[39;00m\n\u001b[1;32m   2482\u001b[0m \u001b[39m# when the last Python token in the expression is a ';'.\u001b[39;00m\n\u001b[1;32m   2483\u001b[0m \u001b[39mif\u001b[39;00m \u001b[39mgetattr\u001b[39m(fn, magic\u001b[39m.\u001b[39mMAGIC_OUTPUT_CAN_BE_SILENCED, \u001b[39mFalse\u001b[39;00m):\n",
      "File \u001b[0;32m/opt/conda/envs/rapids/lib/python3.10/site-packages/IPython/core/magics/execution.py:1174\u001b[0m, in \u001b[0;36mExecutionMagics.timeit\u001b[0;34m(self, line, cell, local_ns)\u001b[0m\n\u001b[1;32m   1171\u001b[0m         \u001b[39mif\u001b[39;00m time_number \u001b[39m>\u001b[39m\u001b[39m=\u001b[39m \u001b[39m0.2\u001b[39m:\n\u001b[1;32m   1172\u001b[0m             \u001b[39mbreak\u001b[39;00m\n\u001b[0;32m-> 1174\u001b[0m all_runs \u001b[39m=\u001b[39m timer\u001b[39m.\u001b[39;49mrepeat(repeat, number)\n\u001b[1;32m   1175\u001b[0m best \u001b[39m=\u001b[39m \u001b[39mmin\u001b[39m(all_runs) \u001b[39m/\u001b[39m number\n\u001b[1;32m   1176\u001b[0m worst \u001b[39m=\u001b[39m \u001b[39mmax\u001b[39m(all_runs) \u001b[39m/\u001b[39m number\n",
      "File \u001b[0;32m/opt/conda/envs/rapids/lib/python3.10/timeit.py:206\u001b[0m, in \u001b[0;36mTimer.repeat\u001b[0;34m(self, repeat, number)\u001b[0m\n\u001b[1;32m    204\u001b[0m r \u001b[39m=\u001b[39m []\n\u001b[1;32m    205\u001b[0m \u001b[39mfor\u001b[39;00m i \u001b[39min\u001b[39;00m \u001b[39mrange\u001b[39m(repeat):\n\u001b[0;32m--> 206\u001b[0m     t \u001b[39m=\u001b[39m \u001b[39mself\u001b[39;49m\u001b[39m.\u001b[39;49mtimeit(number)\n\u001b[1;32m    207\u001b[0m     r\u001b[39m.\u001b[39mappend(t)\n\u001b[1;32m    208\u001b[0m \u001b[39mreturn\u001b[39;00m r\n",
      "File \u001b[0;32m/opt/conda/envs/rapids/lib/python3.10/site-packages/IPython/core/magics/execution.py:158\u001b[0m, in \u001b[0;36mTimer.timeit\u001b[0;34m(self, number)\u001b[0m\n\u001b[1;32m    156\u001b[0m gc\u001b[39m.\u001b[39mdisable()\n\u001b[1;32m    157\u001b[0m \u001b[39mtry\u001b[39;00m:\n\u001b[0;32m--> 158\u001b[0m     timing \u001b[39m=\u001b[39m \u001b[39mself\u001b[39;49m\u001b[39m.\u001b[39;49minner(it, \u001b[39mself\u001b[39;49m\u001b[39m.\u001b[39;49mtimer)\n\u001b[1;32m    159\u001b[0m \u001b[39mfinally\u001b[39;00m:\n\u001b[1;32m    160\u001b[0m     \u001b[39mif\u001b[39;00m gcold:\n",
      "File \u001b[0;32m<magic-timeit>:1\u001b[0m, in \u001b[0;36minner\u001b[0;34m(_it, _timer)\u001b[0m\n",
      "File \u001b[0;32m/opt/conda/envs/rapids/lib/python3.10/site-packages/cugraph/testing/mg_utils.py:324\u001b[0m, in \u001b[0;36mget_allocation_counts_dask_lazy.<locals>.decorator.<locals>.wrapper\u001b[0;34m(*args, **kwargs)\u001b[0m\n\u001b[1;32m    322\u001b[0m client\u001b[39m.\u001b[39mrun(set_statistics_adaptor)\n\u001b[1;32m    323\u001b[0m st \u001b[39m=\u001b[39m time\u001b[39m.\u001b[39mtime()\n\u001b[0;32m--> 324\u001b[0m return_val \u001b[39m=\u001b[39m func(\u001b[39m*\u001b[39;49margs, \u001b[39m*\u001b[39;49m\u001b[39m*\u001b[39;49mkwargs)\n\u001b[1;32m    325\u001b[0m et \u001b[39m=\u001b[39m time\u001b[39m.\u001b[39mtime()\n\u001b[1;32m    326\u001b[0m allocation_counts \u001b[39m=\u001b[39m client\u001b[39m.\u001b[39mrun(_get_allocation_counts)\n",
      "File \u001b[0;32m~/cugraph/benchmarks/cugraph/standalone/bulk_sampling/cugraph_bulk_sampling.py:196\u001b[0m, in \u001b[0;36msample_graph\u001b[0;34m(***failed resolving arguments***)\u001b[0m\n\u001b[1;32m    192\u001b[0m \u001b[39mprint\u001b[39m(\u001b[39m'\u001b[39m\u001b[39mcreated batches\u001b[39m\u001b[39m'\u001b[39m)\n\u001b[1;32m    195\u001b[0m start_time \u001b[39m=\u001b[39m perf_counter()\n\u001b[0;32m--> 196\u001b[0m sampler\u001b[39m.\u001b[39;49madd_batches(batch_df, start_col_name\u001b[39m=\u001b[39;49m\u001b[39m'\u001b[39;49m\u001b[39mnode\u001b[39;49m\u001b[39m'\u001b[39;49m, batch_col_name\u001b[39m=\u001b[39;49m\u001b[39m'\u001b[39;49m\u001b[39mbatch\u001b[39;49m\u001b[39m'\u001b[39;49m)\n\u001b[1;32m    197\u001b[0m sampler\u001b[39m.\u001b[39mflush()\n\u001b[1;32m    198\u001b[0m end_time \u001b[39m=\u001b[39m perf_counter()\n",
      "File \u001b[0;32m/opt/conda/envs/rapids/lib/python3.10/site-packages/cugraph/gnn/data_loading/bulk_sampler.py:183\u001b[0m, in \u001b[0;36mEXPERIMENTAL__BulkSampler.add_batches\u001b[0;34m(self, df, start_col_name, batch_col_name)\u001b[0m\n\u001b[1;32m    177\u001b[0m \u001b[39mif\u001b[39;00m \u001b[39mself\u001b[39m\u001b[39m.\u001b[39msize \u001b[39m>\u001b[39m\u001b[39m=\u001b[39m \u001b[39mself\u001b[39m\u001b[39m.\u001b[39mseeds_per_call:\n\u001b[1;32m    178\u001b[0m     \u001b[39mself\u001b[39m\u001b[39m.\u001b[39m__logger\u001b[39m.\u001b[39minfo(\n\u001b[1;32m    179\u001b[0m         \u001b[39mf\u001b[39m\u001b[39m\"\u001b[39m\u001b[39mNumber of input seeds (\u001b[39m\u001b[39m{\u001b[39;00m\u001b[39mself\u001b[39m\u001b[39m.\u001b[39msize\u001b[39m}\u001b[39;00m\u001b[39m)\u001b[39m\u001b[39m\"\u001b[39m\n\u001b[1;32m    180\u001b[0m         \u001b[39mf\u001b[39m\u001b[39m\"\u001b[39m\u001b[39m is >= seeds per call (\u001b[39m\u001b[39m{\u001b[39;00m\u001b[39mself\u001b[39m\u001b[39m.\u001b[39mseeds_per_call\u001b[39m}\u001b[39;00m\u001b[39m).\u001b[39m\u001b[39m\"\u001b[39m\n\u001b[1;32m    181\u001b[0m         \u001b[39m\"\u001b[39m\u001b[39m Calling flush() to compute and write minibatches.\u001b[39m\u001b[39m\"\u001b[39m\n\u001b[1;32m    182\u001b[0m     )\n\u001b[0;32m--> 183\u001b[0m     \u001b[39mself\u001b[39;49m\u001b[39m.\u001b[39;49mflush()\n",
      "File \u001b[0;32m/opt/conda/envs/rapids/lib/python3.10/site-packages/cugraph/gnn/data_loading/bulk_sampler.py:239\u001b[0m, in \u001b[0;36mEXPERIMENTAL__BulkSampler.flush\u001b[0;34m(self)\u001b[0m\n\u001b[1;32m    236\u001b[0m start_time_sample_call \u001b[39m=\u001b[39m time\u001b[39m.\u001b[39mperf_counter()\n\u001b[1;32m    238\u001b[0m \u001b[39m# Call uniform neighbor sample\u001b[39;00m\n\u001b[0;32m--> 239\u001b[0m samples, offsets \u001b[39m=\u001b[39m sample_fn(\n\u001b[1;32m    240\u001b[0m     \u001b[39mself\u001b[39;49m\u001b[39m.\u001b[39;49m__graph,\n\u001b[1;32m    241\u001b[0m     \u001b[39m*\u001b[39;49m\u001b[39m*\u001b[39;49m\u001b[39mself\u001b[39;49m\u001b[39m.\u001b[39;49m__sample_call_args,\n\u001b[1;32m    242\u001b[0m     start_list\u001b[39m=\u001b[39;49m\u001b[39mself\u001b[39;49m\u001b[39m.\u001b[39;49m__batches[[\u001b[39mself\u001b[39;49m\u001b[39m.\u001b[39;49mstart_col_name, \u001b[39mself\u001b[39;49m\u001b[39m.\u001b[39;49mbatch_col_name]][\n\u001b[1;32m    243\u001b[0m         batch_id_filter\n\u001b[1;32m    244\u001b[0m     ],\n\u001b[1;32m    245\u001b[0m     with_batch_ids\u001b[39m=\u001b[39;49m\u001b[39mTrue\u001b[39;49;00m,\n\u001b[1;32m    246\u001b[0m     with_edge_properties\u001b[39m=\u001b[39;49m\u001b[39mTrue\u001b[39;49;00m,\n\u001b[1;32m    247\u001b[0m     return_offsets\u001b[39m=\u001b[39;49m\u001b[39mTrue\u001b[39;49;00m,\n\u001b[1;32m    248\u001b[0m )\n\u001b[1;32m    250\u001b[0m end_time_sample_call \u001b[39m=\u001b[39m time\u001b[39m.\u001b[39mperf_counter()\n\u001b[1;32m    251\u001b[0m sample_runtime \u001b[39m=\u001b[39m end_time_sample_call \u001b[39m-\u001b[39m start_time_sample_call\n",
      "File \u001b[0;32m/opt/conda/envs/rapids/lib/python3.10/site-packages/cugraph/dask/sampling/uniform_neighbor_sample.py:794\u001b[0m, in \u001b[0;36muniform_neighbor_sample\u001b[0;34m(input_graph, start_list, fanout_vals, with_replacement, with_edge_properties, batch_id_list, label_list, label_to_output_comm_rank, with_batch_ids, keep_batches_together, min_batch_id, max_batch_id, random_state, return_offsets, _multiple_clients)\u001b[0m\n\u001b[1;32m    792\u001b[0m \u001b[39mif\u001b[39;00m lock\u001b[39m.\u001b[39macquire(timeout\u001b[39m=\u001b[39m\u001b[39m100\u001b[39m):\n\u001b[1;32m    793\u001b[0m     \u001b[39mtry\u001b[39;00m:\n\u001b[0;32m--> 794\u001b[0m         ddf \u001b[39m=\u001b[39m _mg_call_plc_uniform_neighbor_sample(\n\u001b[1;32m    795\u001b[0m             client\u001b[39m=\u001b[39;49mclient,\n\u001b[1;32m    796\u001b[0m             session_id\u001b[39m=\u001b[39;49msession_id,\n\u001b[1;32m    797\u001b[0m             input_graph\u001b[39m=\u001b[39;49minput_graph,\n\u001b[1;32m    798\u001b[0m             ddf\u001b[39m=\u001b[39;49mddf,\n\u001b[1;32m    799\u001b[0m             keep_batches_together\u001b[39m=\u001b[39;49mkeep_batches_together,\n\u001b[1;32m    800\u001b[0m             min_batch_id\u001b[39m=\u001b[39;49mmin_batch_id,\n\u001b[1;32m    801\u001b[0m             max_batch_id\u001b[39m=\u001b[39;49mmax_batch_id,\n\u001b[1;32m    802\u001b[0m             fanout_vals\u001b[39m=\u001b[39;49mfanout_vals,\n\u001b[1;32m    803\u001b[0m             with_replacement\u001b[39m=\u001b[39;49mwith_replacement,\n\u001b[1;32m    804\u001b[0m             weight_t\u001b[39m=\u001b[39;49mweight_t,\n\u001b[1;32m    805\u001b[0m             indices_t\u001b[39m=\u001b[39;49mindices_t,\n\u001b[1;32m    806\u001b[0m             with_edge_properties\u001b[39m=\u001b[39;49mwith_edge_properties,\n\u001b[1;32m    807\u001b[0m             random_state\u001b[39m=\u001b[39;49mrandom_state,\n\u001b[1;32m    808\u001b[0m             return_offsets\u001b[39m=\u001b[39;49mreturn_offsets,\n\u001b[1;32m    809\u001b[0m         )\n\u001b[1;32m    810\u001b[0m     \u001b[39mfinally\u001b[39;00m:\n\u001b[1;32m    811\u001b[0m         lock\u001b[39m.\u001b[39mrelease()\n",
      "File \u001b[0;32m/opt/conda/envs/rapids/lib/python3.10/site-packages/cugraph/dask/sampling/uniform_neighbor_sample.py:378\u001b[0m, in \u001b[0;36m_mg_call_plc_uniform_neighbor_sample\u001b[0;34m(***failed resolving arguments***)\u001b[0m\n\u001b[1;32m    355\u001b[0m result \u001b[39m=\u001b[39m [\n\u001b[1;32m    356\u001b[0m     client\u001b[39m.\u001b[39msubmit(\n\u001b[1;32m    357\u001b[0m         _call_plc_uniform_neighbor_sample,\n\u001b[0;32m   (...)\u001b[0m\n\u001b[1;32m    375\u001b[0m     \u001b[39mfor\u001b[39;00m w, starts \u001b[39min\u001b[39;00m ddf\u001b[39m.\u001b[39mitems()\n\u001b[1;32m    376\u001b[0m ]\n\u001b[1;32m    377\u001b[0m \u001b[39mdel\u001b[39;00m ddf\n\u001b[0;32m--> 378\u001b[0m wait(min_batch_id\u001b[39m.\u001b[39;49mto_delayed()\u001b[39m.\u001b[39;49mrelease())\n\u001b[1;32m    379\u001b[0m wait(max_batch_id\u001b[39m.\u001b[39mto_delayed()\u001b[39m.\u001b[39mrelease())\n\u001b[1;32m    380\u001b[0m \u001b[39mdel\u001b[39;00m min_batch_id\n",
      "\u001b[0;31mAttributeError\u001b[0m: 'list' object has no attribute 'release'"
     ]
    }
   ],
   "source": [
    "%%timeit -n30 -r1\n",
    "\n",
    "\n",
    "execution_time, allocation_counts = sample_graph(\n",
    "    G,\n",
    "    dask_label_df,\n",
    "    output_sample_path,\n",
    "    seed=seed,\n",
    "    batch_size=batch_size,\n",
    "    seeds_per_call=seeds_per_call,\n",
    "    batches_per_partition=batches_per_partition,\n",
    "    fanout=fanout,\n",
    "    persist=persist,\n",
    ")\n"
   ]
  },
  {
   "cell_type": "code",
   "execution_count": 8,
   "id": "662c8b3c",
   "metadata": {},
   "outputs": [],
   "source": [
    "import cudf, dask_cudf\n",
    "df = dask_cudf.from_cudf(cudf.Series([0,5,6,1,2,3,4,0,-1]), npartitions=8)"
   ]
  },
  {
   "cell_type": "code",
   "execution_count": 10,
   "id": "acea5780",
   "metadata": {},
   "outputs": [],
   "source": [
    "m = df.min()"
   ]
  },
  {
   "cell_type": "code",
   "execution_count": 49,
   "id": "457aa544",
   "metadata": {},
   "outputs": [
    {
     "data": {
      "text/plain": [
       "numpy.ndarray"
      ]
     },
     "execution_count": 49,
     "metadata": {},
     "output_type": "execute_result"
    }
   ],
   "source": [
    "import dask.dataframe as dd\n",
    "m.persist()\n"
   ]
  },
  {
   "cell_type": "code",
   "execution_count": null,
   "id": "27066cf3",
   "metadata": {},
   "outputs": [],
   "source": []
  }
 ],
 "metadata": {
  "kernelspec": {
   "display_name": "Python 3.10.11 ('base')",
   "language": "python",
   "name": "python3"
  },
  "language_info": {
   "codemirror_mode": {
    "name": "ipython",
    "version": 3
   },
   "file_extension": ".py",
   "mimetype": "text/x-python",
   "name": "python",
   "nbconvert_exporter": "python",
   "pygments_lexer": "ipython3",
   "version": "3.10.11"
  },
  "vscode": {
   "interpreter": {
    "hash": "f708a36acfaef0acf74ccd43dfb58100269bf08fb79032a1e0a6f35bd9856f51"
   }
  }
 },
 "nbformat": 4,
 "nbformat_minor": 5
}
