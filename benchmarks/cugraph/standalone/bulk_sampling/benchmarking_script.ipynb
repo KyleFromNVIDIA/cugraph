{
 "cells": [
  {
   "cell_type": "code",
   "execution_count": null,
   "id": "9b8d43d5-3005-4b0b-b418-b84af104bc3b",
   "metadata": {},
   "outputs": [],
   "source": [
    "!export RAPIDS_NO_INITIALIZE=\"1\"\n",
    "!export CUDF_SPILL=\"1\"\n",
    "!export LIBCUDF_CUFILE_POLICY=\"OFF\"\n",
    "\n",
    "from cugraph_bulk_sampling import start_dask_client, benchmark_cugraph_bulk_sampling, load_disk_dataset, construct_graph\n",
    "from cugraph_bulk_sampling import sample_graph\n",
    "import os"
   ]
  },
  {
   "cell_type": "markdown",
   "id": "f3f04da7-c937-4dab-b432-fc569522f411",
   "metadata": {},
   "source": [
    "# Setup Cluster"
   ]
  },
  {
   "cell_type": "code",
   "execution_count": null,
   "id": "26324a75-1b34-4c7b-8a26-23bac23e91b4",
   "metadata": {},
   "outputs": [],
   "source": [
    "dask_worker_devices='0,1,2,3,4,5,6,7'"
   ]
  },
  {
   "cell_type": "code",
   "execution_count": null,
   "id": "fc8d56ef-4036-4105-9764-1c6cbb2bdb15",
   "metadata": {},
   "outputs": [],
   "source": [
    "client, cluster = start_dask_client(dask_worker_devices=dask_worker_devices,\n",
    "                                    jit_unspill=False,\n",
    "                                    rmm_pool_size=28e9,\n",
    "                                    rmm_async=True)"
   ]
  },
  {
   "cell_type": "markdown",
   "id": "5335b115-eeb0-470d-9884-79990506ead7",
   "metadata": {},
   "source": [
    "# Setup Benchmark"
   ]
  },
  {
   "cell_type": "code",
   "execution_count": null,
   "id": "c9c8fb66-6bdd-45d7-8564-cc28e383d966",
   "metadata": {},
   "outputs": [],
   "source": [
    "dataset='ogbn_papers100M'\n",
    "dataset_root=\".\"\n",
    "output_root=\".\"\n",
    "reverse_edges=True\n",
    "add_edge_types=False\n",
    "batch_size=512\n",
    "seeds_per_call=524288\n",
    "fanout=[25,25]\n",
    "replication_factor=2\n",
    "seed=123\n",
    "\n",
    "dataset_dir=dataset_root\n",
    "output_path=output_root\n",
    "persist=False\n"
   ]
  },
  {
   "cell_type": "code",
   "execution_count": null,
   "id": "37ed06f6-ad06-443a-be12-61800d59d221",
   "metadata": {},
   "outputs": [],
   "source": [
    "dask_edgelist_df, dask_label_df, node_offsets, edge_offsets, total_num_nodes = \\\n",
    "    load_disk_dataset(\n",
    "        dataset,\n",
    "        dataset_dir=dataset_dir,\n",
    "        reverse_edges=reverse_edges,\n",
    "        replication_factor=replication_factor,\n",
    "        persist=False,\n",
    "        add_edge_types=add_edge_types\n",
    "    )\n",
    "num_input_edges = len(dask_edgelist_df)\n",
    "print(\n",
    "f\"Number of input edges = {num_input_edges:,}\"\n",
    ")\n",
    "\n",
    "G = construct_graph(\n",
    "dask_edgelist_df\n",
    ")\n",
    "del dask_edgelist_df\n",
    "print('constructed graph')"
   ]
  },
  {
   "cell_type": "code",
   "execution_count": null,
   "id": "f71cf5a3-7e4b-4497-9c14-a342cc5abbcd",
   "metadata": {},
   "outputs": [],
   "source": [
    "input_memory = G.edgelist.edgelist_df.memory_usage().sum().compute()\n",
    "print(f'input memory: {input_memory}')\n",
    "\n",
    "output_subdir = os.path.join(output_path, f'{dataset}[{replication_factor}]_b{batch_size}_f{fanout}')\n",
    "os.makedirs(output_subdir, exist_ok=True)\n",
    "\n",
    "output_sample_path = os.path.join(output_subdir, 'samples')\n",
    "os.makedirs(output_sample_path,  exist_ok=True)\n",
    "\n",
    "batches_per_partition = 200_000 // batch_size"
   ]
  },
  {
   "cell_type": "markdown",
   "id": "3d276c5c-65d6-4191-b2a5-37b30d2cd44b",
   "metadata": {},
   "source": [
    "# Benchmarking Sample Graph"
   ]
  },
  {
   "cell_type": "code",
   "execution_count": null,
   "id": "675b580c-6a7a-4571-88dd-0d4429f9e5ff",
   "metadata": {},
   "outputs": [],
   "source": [
    "#%%timeit -n10 -r1\n",
    "\n",
    "\n",
    "execution_time, allocation_counts = sample_graph(\n",
    "    G,\n",
    "    dask_label_df,\n",
    "    output_sample_path,\n",
    "    seed=seed,\n",
    "    batch_size=batch_size,\n",
    "    seeds_per_call=seeds_per_call,\n",
    "    batches_per_partition=batches_per_partition,\n",
    "    fanout=fanout,\n",
    "    persist=persist,\n",
    ")\n"
   ]
  },
  {
   "cell_type": "code",
   "execution_count": null,
   "id": "662c8b3c",
   "metadata": {},
   "outputs": [],
   "source": []
  },
  {
   "cell_type": "code",
   "execution_count": null,
   "id": "acea5780",
   "metadata": {},
   "outputs": [],
   "source": []
  }
 ],
 "metadata": {
  "kernelspec": {
   "display_name": "Python 3.10.11 ('base')",
   "language": "python",
   "name": "python3"
  },
  "language_info": {
   "codemirror_mode": {
    "name": "ipython",
    "version": 3
   },
   "file_extension": ".py",
   "mimetype": "text/x-python",
   "name": "python",
   "nbconvert_exporter": "python",
   "pygments_lexer": "ipython3",
   "version": "3.10.11"
  },
  "vscode": {
   "interpreter": {
    "hash": "f708a36acfaef0acf74ccd43dfb58100269bf08fb79032a1e0a6f35bd9856f51"
   }
  }
 },
 "nbformat": 4,
 "nbformat_minor": 5
}
